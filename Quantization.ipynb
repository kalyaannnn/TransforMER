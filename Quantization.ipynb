{
  "nbformat": 4,
  "nbformat_minor": 0,
  "metadata": {
    "colab": {
      "provenance": [],
      "authorship_tag": "ABX9TyPJgUIUE5QH9FgUysdLQvAO",
      "include_colab_link": true
    },
    "kernelspec": {
      "name": "python3",
      "display_name": "Python 3"
    },
    "language_info": {
      "name": "python"
    }
  },
  "cells": [
    {
      "cell_type": "markdown",
      "metadata": {
        "id": "view-in-github",
        "colab_type": "text"
      },
      "source": [
        "<a href=\"https://colab.research.google.com/github/kalyaannnn/TransforMER/blob/main/Quantization.ipynb\" target=\"_parent\"><img src=\"https://colab.research.google.com/assets/colab-badge.svg\" alt=\"Open In Colab\"/></a>"
      ]
    },
    {
      "cell_type": "markdown",
      "source": [
        "Quantization using MinMax\n"
      ],
      "metadata": {
        "id": "pT-BahbztK4l"
      }
    },
    {
      "cell_type": "code",
      "execution_count": 14,
      "metadata": {
        "colab": {
          "base_uri": "https://localhost:8080/"
        },
        "id": "6yrYKQJROwam",
        "outputId": "c60ac0ce-0bcd-471a-9793-ec60deb7c5c0"
      },
      "outputs": [
        {
          "output_type": "stream",
          "name": "stdout",
          "text": [
            "[146.93 -47.31   0.   -36.45 144.12 116.43 145.93  86.63 -15.27  26.39\n",
            "  53.16  24.85 -26.28  97.77 -46.31  64.6  123.86  60.37  58.95  10.8 ]\n"
          ]
        }
      ],
      "source": [
        "import numpy as np\n",
        "\n",
        "np.set_printoptions(suppress = True)\n",
        "\n",
        "params = np.random.uniform(low = -50, high = 150, size = 20)\n",
        "\n",
        "params[0] = params.max() + 1\n",
        "params[1] = params.min() - 1\n",
        "params[2] = 0\n",
        "\n",
        "params = np.round(params, 2)\n",
        "\n",
        "print(params)"
      ]
    },
    {
      "cell_type": "code",
      "source": [
        "def clamp(params_q : np.array, lower_bound : int, upper_bound : int) -> np.array:\n",
        "  params_q[params_q < lower_bound] = lower_bound\n",
        "  params_q[params_q > upper_bound] = upper_bound\n",
        "  return params_q"
      ],
      "metadata": {
        "id": "6l6sj5fPPnRs"
      },
      "execution_count": 15,
      "outputs": []
    },
    {
      "cell_type": "code",
      "source": [
        "def asymmetric_quantization(params : np.array, bits : int) -> tuple[np.array, float, int]:\n",
        "  # Calculating the scale and zero point\n",
        "  alpha = np.max(params)\n",
        "  beta = np.min(params)\n",
        "  scale = (alpha - beta) / (2 ** bits - 1)\n",
        "  zero = -1 * np.round(beta / scale)\n",
        "  lower_bound, upper_bound = 0, 2 ** bits - 1\n",
        "\n",
        "  # Quantize the parameters\n",
        "  quantized = clamp(np.round(params / scale + zero), lower_bound, upper_bound).astype(np.int32)\n",
        "  return quantized, scale, zero"
      ],
      "metadata": {
        "id": "PS3OapGEQouC"
      },
      "execution_count": 16,
      "outputs": []
    },
    {
      "cell_type": "code",
      "source": [
        "def asymmetric_quantization(params : np.array, bits : int) -> tuple[np.array, float, int]:\n",
        "  # Calculating the scale and zero point\n",
        "  alpha = np.max(params)\n",
        "  beta = np.min(params)\n",
        "  scale = (alpha - beta) / (2 ** bits - 1)\n",
        "  zero = -1 * np.round(beta / scale)\n",
        "  lower_bound, upper_bound = 0, 2 ** bits - 1\n",
        "\n",
        "  # Quantize the parameters\n",
        "  quantized = clamp(np.round(params / scale + zero), lower_bound, upper_bound).astype(np.int32)\n",
        "  return quantized, scale, zero"
      ],
      "metadata": {
        "id": "Q56ehWt_fSP-"
      },
      "execution_count": 17,
      "outputs": []
    },
    {
      "cell_type": "code",
      "source": [
        "def symmetric_quantization(params: np.array, bits: int) -> tuple[np.array, float]:\n",
        "    # Calculate the scale\n",
        "    alpha = np.max(np.abs(params))\n",
        "    scale = alpha / (2**(bits-1)-1)\n",
        "    lower_bound = -2**(bits-1)\n",
        "    upper_bound = 2**(bits-1)-1\n",
        "    # Quantize the parameters\n",
        "    quantized = clamp(np.round(params / scale), lower_bound, upper_bound).astype(np.int32)\n",
        "    return quantized, scale"
      ],
      "metadata": {
        "id": "E0KyxuPTfl0u"
      },
      "execution_count": 17,
      "outputs": []
    },
    {
      "cell_type": "code",
      "source": [
        "def asymmetric_dequantize(params_q : np.array, scale : float, zero : int) -> np.array:\n",
        "  return (params_q - zero) * scale\n",
        "\n",
        "def symmetric_dequantize(params_q : np.array, scale : float) -> np.array:\n",
        "  return params_q * scale"
      ],
      "metadata": {
        "id": "yJVJal8xRdHi"
      },
      "execution_count": 18,
      "outputs": []
    },
    {
      "cell_type": "code",
      "source": [
        "def quantization_error(params : np.array, params_q : np.array):\n",
        "  # Calculate the MSE\n",
        "  return np.mean((params - params_q) ** 2)"
      ],
      "metadata": {
        "id": "3qTIXhGuTqLR"
      },
      "execution_count": 20,
      "outputs": []
    },
    {
      "cell_type": "code",
      "source": [
        "(asymmetric_q, asymmetric_scale, asymmetric_zero) = asymmetric_quantization(params, 8)\n",
        "(symmetric_q, symmetric_scale) = symmetric_quantization(params, 8)"
      ],
      "metadata": {
        "id": "PwxPP_-3T8_4"
      },
      "execution_count": 21,
      "outputs": []
    },
    {
      "cell_type": "code",
      "source": [
        "print(f'Original')\n",
        "print(np.round(params, 2))\n",
        "print('')\n",
        "print(f'Asymmetric Scale : {asymmetric_scale}, Zero : {asymmetric_zero}')\n",
        "print(asymmetric_q)\n",
        "print('')\n",
        "print(f'Symmetric Scale : {symmetric_scale}')\n",
        "print(symmetric_q)"
      ],
      "metadata": {
        "colab": {
          "base_uri": "https://localhost:8080/"
        },
        "id": "eISZUxXVUTXT",
        "outputId": "f1688cb6-9aeb-4cdb-c7ee-b9f59aed0865"
      },
      "execution_count": 22,
      "outputs": [
        {
          "output_type": "stream",
          "name": "stdout",
          "text": [
            "Original\n",
            "[146.93 -47.31   0.   -36.45 144.12 116.43 145.93  86.63 -15.27  26.39\n",
            "  53.16  24.85 -26.28  97.77 -46.31  64.6  123.86  60.37  58.95  10.8 ]\n",
            "\n",
            "Asymmetric Scale : 0.7617254901960785, Zero : 62.0\n",
            "[255   0  62  14 251 215 254 176  42  97 132  95  27 190   1 147 225 141\n",
            " 139  76]\n",
            "\n",
            "Symmetric Scale : 1.1569291338582677\n",
            "[127 -41   0 -32 125 101 126  75 -13  23  46  21 -23  85 -40  56 107  52\n",
            "  51   9]\n"
          ]
        }
      ]
    },
    {
      "cell_type": "code",
      "source": [
        "# Dequantizing the parameters\n",
        "params_deq_asymmetric = asymmetric_dequantize(asymmetric_q, asymmetric_scale, asymmetric_zero)\n",
        "params_deq_symmetric = symmetric_dequantize(symmetric_q, symmetric_scale)\n",
        "\n",
        "print(f'Original')\n",
        "print(np.round(params, 2))\n",
        "print('')\n",
        "print(f'Dequantize Asymmetric :')\n",
        "print(np.round(params_deq_asymmetric, 2))\n",
        "print('')\n",
        "print(f'Dequantize Symmetric :')\n",
        "print(np.round(params_deq_symmetric, 2))"
      ],
      "metadata": {
        "colab": {
          "base_uri": "https://localhost:8080/"
        },
        "id": "im4qWNmVVUv5",
        "outputId": "3a04b35e-24b2-4293-c4fe-f1556ed4accb"
      },
      "execution_count": 23,
      "outputs": [
        {
          "output_type": "stream",
          "name": "stdout",
          "text": [
            "Original\n",
            "[146.93 -47.31   0.   -36.45 144.12 116.43 145.93  86.63 -15.27  26.39\n",
            "  53.16  24.85 -26.28  97.77 -46.31  64.6  123.86  60.37  58.95  10.8 ]\n",
            "\n",
            "Dequantize Asymmetric :\n",
            "[147.01 -47.23   0.   -36.56 143.97 116.54 146.25  86.84 -15.23  26.66\n",
            "  53.32  25.14 -26.66  97.5  -46.47  64.75 124.16  60.18  58.65  10.66]\n",
            "\n",
            "Dequantize Symmetric :\n",
            "[146.93 -47.43   0.   -37.02 144.62 116.85 145.77  86.77 -15.04  26.61\n",
            "  53.22  24.3  -26.61  98.34 -46.28  64.79 123.79  60.16  59.    10.41]\n"
          ]
        }
      ]
    },
    {
      "cell_type": "code",
      "source": [
        "# Calculate the quantization error\n",
        "print(f'{\"Asymmetric Error : \":>20}{np.round(quantization_error(params, params_deq_asymmetric), 2)}')\n",
        "print(f'{\"Symmetric Error : \":>20}{np.round(quantization_error(params, params_deq_symmetric), 2)}')"
      ],
      "metadata": {
        "colab": {
          "base_uri": "https://localhost:8080/"
        },
        "id": "FYoqABIJWwAV",
        "outputId": "22805199-cad7-4471-fc5b-1e57a079e13a"
      },
      "execution_count": 24,
      "outputs": [
        {
          "output_type": "stream",
          "name": "stdout",
          "text": [
            " Asymmetric Error : 0.04\n",
            "  Symmetric Error : 0.09\n"
          ]
        }
      ]
    },
    {
      "cell_type": "markdown",
      "source": [
        "Quantization using Percentile"
      ],
      "metadata": {
        "id": "iMu-NiVRsjNS"
      }
    },
    {
      "cell_type": "code",
      "source": [
        "import numpy as np\n",
        "\n",
        "np.set_printoptions(suppress=True)\n",
        "\n",
        "params = np.random.uniform(low=-50, high=150, size=10000)\n",
        "\n",
        "# Introduce an outlier\n",
        "params[-1] = 1000\n",
        "\n",
        "params = np.round(params, 2)\n",
        "\n",
        "print(params)"
      ],
      "metadata": {
        "colab": {
          "base_uri": "https://localhost:8080/"
        },
        "id": "v0oxG0PUsnTQ",
        "outputId": "131e69ed-9d99-4472-b29f-11f093c8f933"
      },
      "execution_count": 27,
      "outputs": [
        {
          "output_type": "stream",
          "name": "stdout",
          "text": [
            "[ 112.1     3.92  126.   ...  114.76  -46.97 1000.  ]\n"
          ]
        }
      ]
    },
    {
      "cell_type": "code",
      "source": [
        "def clamp(params_q: np.array, lower_bound: int, upper_bound: int) -> np.array:\n",
        "    params_q[params_q < lower_bound] = lower_bound\n",
        "    params_q[params_q > upper_bound] = upper_bound\n",
        "    return params_q\n",
        "\n",
        "def asymmetric_quantization(params: np.array, bits: int) -> tuple[np.array, float, int]:\n",
        "    alpha = np.max(params)\n",
        "    beta = np.min(params)\n",
        "    scale = (alpha - beta) / (2**bits-1)\n",
        "    zero = -1*np.round(beta / scale)\n",
        "    lower_bound, upper_bound = 0, 2**bits-1\n",
        "    quantized = clamp(np.round(params / scale + zero), lower_bound, upper_bound).astype(np.int32)\n",
        "    return quantized, scale, zero\n",
        "\n",
        "def asymmetric_quantization_percentile(params: np.array, bits: int, percentile: float = 99.99) -> tuple[np.array, float, int]:\n",
        "    # find the percentile value\n",
        "    alpha = np.percentile(params, percentile)\n",
        "    beta = np.percentile(params, 100-percentile)\n",
        "    scale = (alpha - beta) / (2**bits-1)\n",
        "    zero = -1*np.round(beta / scale)\n",
        "    lower_bound, upper_bound = 0, 2**bits-1\n",
        "    quantized = clamp(np.round(params / scale + zero), lower_bound, upper_bound).astype(np.int32)\n",
        "    return quantized, scale, zero\n",
        "\n",
        "\n",
        "def asymmetric_dequantize(params_q: np.array, scale: float, zero: int) -> np.array:\n",
        "    return (params_q - zero) * scale\n",
        "\n",
        "def quantization_error(params: np.array, params_q: np.array):\n",
        "    # calculate the MSE\n",
        "    return np.mean((params - params_q)**2)\n",
        "\n",
        "(asymmetric_q, asymmetric_scale, asymmetric_zero) = asymmetric_quantization(params, 8)\n",
        "(asymmetric_q_percentile, asymmetric_scale_percentile, asymmetric_zero_percentile) = asymmetric_quantization_percentile(params, 8)\n",
        "\n",
        "print(f'Original:')\n",
        "print(np.round(params, 2))\n",
        "print('')\n",
        "print(f'Asymmetric (min-max) scale: {asymmetric_scale}, zero: {asymmetric_zero}')\n",
        "print(asymmetric_q)\n",
        "print(f'')\n",
        "print(f'Asymmetric (percentile) scale: {asymmetric_scale_percentile}, zero: {asymmetric_zero_percentile}')\n",
        "print(asymmetric_q_percentile)"
      ],
      "metadata": {
        "colab": {
          "base_uri": "https://localhost:8080/"
        },
        "id": "Vq0XTrXkssxe",
        "outputId": "7f5c528a-6494-4b01-d443-fef422dc41f4"
      },
      "execution_count": 28,
      "outputs": [
        {
          "output_type": "stream",
          "name": "stdout",
          "text": [
            "Original:\n",
            "[ 112.1     3.92  126.   ...  114.76  -46.97 1000.  ]\n",
            "\n",
            "Asymmetric (min-max) scale: 4.117490196078432, zero: 12.0\n",
            "[ 39  13  43 ...  40   1 255]\n",
            "\n",
            "Asymmetric (percentile) scale: 0.7837843843113675, zero: 64.0\n",
            "[207  69 225 ... 210   4 255]\n"
          ]
        }
      ]
    },
    {
      "cell_type": "code",
      "source": [
        "params_deq_asymmetric = asymmetric_dequantize(asymmetric_q, asymmetric_scale, asymmetric_zero)\n",
        "params_deq_asymmetric_percentile = asymmetric_dequantize(asymmetric_q_percentile, asymmetric_scale_percentile, asymmetric_zero_percentile)\n",
        "\n",
        "print(f'Original:')\n",
        "print(np.round(params, 2))\n",
        "print('')\n",
        "print(f'Dequantized (min-max):')\n",
        "print(np.round(params_deq_asymmetric,2))\n",
        "print('')\n",
        "print(f'Dequantized (percentile):')\n",
        "print(np.round(params_deq_asymmetric_percentile,2))"
      ],
      "metadata": {
        "colab": {
          "base_uri": "https://localhost:8080/"
        },
        "id": "8nm7mDP0s-g-",
        "outputId": "385f9a01-4f12-4acf-90a6-7cfd494ce244"
      },
      "execution_count": 29,
      "outputs": [
        {
          "output_type": "stream",
          "name": "stdout",
          "text": [
            "Original:\n",
            "[ 112.1     3.92  126.   ...  114.76  -46.97 1000.  ]\n",
            "\n",
            "Dequantized (min-max):\n",
            "[ 111.17    4.12  127.64 ...  115.29  -45.29 1000.55]\n",
            "\n",
            "Dequantized (percentile):\n",
            "[112.08   3.92 126.19 ... 114.43 -47.03 149.7 ]\n"
          ]
        }
      ]
    },
    {
      "cell_type": "code",
      "source": [
        "# Calculate the quantization error\n",
        "print(f'{\"Error (min-max) excluding outlier: \":>40}{np.round(quantization_error(params[:-1], params_deq_asymmetric[:-1]),2)}')\n",
        "print(f'{\"Error (percentile) excluding outlier: \":>40}{np.round(quantization_error(params[:-1], params_deq_asymmetric_percentile[:-1]),2)}')"
      ],
      "metadata": {
        "id": "tJ7D9pTRtEYt"
      },
      "execution_count": null,
      "outputs": []
    }
  ]
}