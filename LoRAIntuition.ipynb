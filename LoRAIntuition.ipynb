{
  "nbformat": 4,
  "nbformat_minor": 0,
  "metadata": {
    "colab": {
      "provenance": [],
      "gpuType": "T4",
      "authorship_tag": "ABX9TyNVMHYCQfYHTuItwWhuDIuR",
      "include_colab_link": true
    },
    "kernelspec": {
      "name": "python3",
      "display_name": "Python 3"
    },
    "language_info": {
      "name": "python"
    },
    "accelerator": "GPU"
  },
  "cells": [
    {
      "cell_type": "markdown",
      "metadata": {
        "id": "view-in-github",
        "colab_type": "text"
      },
      "source": [
        "<a href=\"https://colab.research.google.com/github/kalyaannnn/TransforMER/blob/main/LoRAIntuition.ipynb\" target=\"_parent\"><img src=\"https://colab.research.google.com/assets/colab-badge.svg\" alt=\"Open In Colab\"/></a>"
      ]
    },
    {
      "cell_type": "code",
      "execution_count": 1,
      "metadata": {
        "id": "lg-oB0Un9Snr"
      },
      "outputs": [],
      "source": [
        "import torch\n",
        "import torch.nn as nn\n",
        "_ = torch.manual_seed(42)"
      ]
    },
    {
      "cell_type": "code",
      "source": [
        "d, k = 10, 10\n",
        "\n",
        "w_rank = 2\n",
        "\n",
        "W = torch.randn(d, w_rank) @ torch.randn(w_rank, k)\n",
        "print(W)"
      ],
      "metadata": {
        "colab": {
          "base_uri": "https://localhost:8080/"
        },
        "id": "WmOTsRc_9flu",
        "outputId": "5b0f3d04-f5f5-4172-e183-f01afa6e7dd1"
      },
      "execution_count": 2,
      "outputs": [
        {
          "output_type": "stream",
          "name": "stdout",
          "text": [
            "tensor([[ 2.6746e+00, -1.4811e+00, -1.1993e+00, -4.3986e-01, -3.2132e+00,\n",
            "         -9.8070e-01,  5.2384e+00,  1.1440e+00,  3.4292e-02, -8.0985e-01],\n",
            "        [-2.6293e+00,  5.5638e-01,  2.8071e+00, -2.1880e+00,  1.5113e+00,\n",
            "         -1.9586e+00, -8.4328e-01, -1.0369e+00,  1.2841e+00,  1.7830e+00],\n",
            "        [ 1.2519e+00, -1.5893e-01, -1.5284e+00,  1.3505e+00, -5.2550e-01,\n",
            "          1.2769e+00, -1.0580e-01,  4.8339e-01, -7.6663e-01, -9.6521e-01],\n",
            "        [ 2.5833e+00, -1.0893e+00, -1.7760e+00,  5.6927e-01, -2.4785e+00,\n",
            "          1.6158e-01,  3.4259e+00,  1.0717e+00, -4.6680e-01, -1.1566e+00],\n",
            "        [-8.3761e-01,  1.5506e-01,  9.3442e-01, -7.6165e-01,  4.4083e-01,\n",
            "         -6.9603e-01, -1.6246e-01, -3.2818e-01,  4.4156e-01,  5.9234e-01],\n",
            "        [ 1.7718e-01,  1.0177e-01, -4.4121e-01,  5.5308e-01,  1.5319e-01,\n",
            "          5.8442e-01, -6.0979e-01,  5.6301e-02, -2.9052e-01, -2.7291e-01],\n",
            "        [-1.6017e-02,  7.9710e-02, -1.2103e-01,  2.0897e-01,  1.4897e-01,\n",
            "          2.3602e-01, -3.7046e-01, -1.3756e-02, -1.0397e-01, -7.2858e-02],\n",
            "        [ 1.1108e+00, -2.7657e-01, -1.1108e+00,  8.0349e-01, -7.1451e-01,\n",
            "          6.9264e-01,  5.5497e-01,  4.4214e-01, -4.8169e-01, -7.0775e-01],\n",
            "        [-6.4689e-01,  3.0791e-01,  3.8113e-01, -4.0177e-02,  6.8502e-01,\n",
            "          7.3725e-02, -1.0261e+00, -2.7179e-01,  6.5410e-02,  2.5107e-01],\n",
            "        [-6.0482e-01, -6.3923e-02,  9.9305e-01, -1.0623e+00, -3.7881e-03,\n",
            "         -1.0740e+00,  7.2463e-01, -2.1982e-01,  5.7648e-01,  6.2066e-01]])\n"
          ]
        }
      ]
    },
    {
      "cell_type": "code",
      "source": [
        "import numpy as np\n",
        "W_rank = np.linalg.matrix_rank(W)\n",
        "print(f\"Rank of W : {W_rank}\")"
      ],
      "metadata": {
        "colab": {
          "base_uri": "https://localhost:8080/"
        },
        "id": "1vX--xiQ9wdN",
        "outputId": "001db737-88ee-4d60-8ca3-5bf1ad24b405"
      },
      "execution_count": 3,
      "outputs": [
        {
          "output_type": "stream",
          "name": "stdout",
          "text": [
            "Rank of W : 2\n"
          ]
        }
      ]
    },
    {
      "cell_type": "code",
      "source": [
        "# Performing the SVD on W (W  = UxSxV^T)\n",
        "U, S, V = torch.svd(W)\n",
        "\n",
        "# For rank factorization, keep only the first r singular values (and corresponding columns of U and V)\n",
        "U_r = U[:, :W_rank]\n",
        "S_r = torch.diag(S[:W_rank])\n",
        "V_r = V[:, :W_rank].t()\n",
        "\n",
        "# Compute C = U_r * S_r and R = V_r\n",
        "B = U_r @ S_r\n",
        "A = V_r\n",
        "print(f\"Shape of B : {B.shape}\")\n",
        "print(f\"Shape of A : {A.shape}\")"
      ],
      "metadata": {
        "colab": {
          "base_uri": "https://localhost:8080/"
        },
        "id": "VfE2oPsP-BmB",
        "outputId": "5fcee465-2bd1-4569-d294-ceb70380e776"
      },
      "execution_count": 4,
      "outputs": [
        {
          "output_type": "stream",
          "name": "stdout",
          "text": [
            "Shape of B : torch.Size([10, 2])\n",
            "Shape of A : torch.Size([2, 10])\n"
          ]
        }
      ]
    },
    {
      "cell_type": "code",
      "source": [
        "bias = torch.randn(d)\n",
        "x = torch.randn(d)\n",
        "# Compute y = Wx + b\n",
        "y = W @ x + bias\n",
        "\n",
        "# Compute y' = CRx + b\n",
        "y_prime = (B @ A) @ x + bias\n",
        "\n",
        "print(f\"Original y using W : \\n\", y)\n",
        "print(\"\")\n",
        "print(f\"y computed using BA : \\n\", y_prime)"
      ],
      "metadata": {
        "colab": {
          "base_uri": "https://localhost:8080/"
        },
        "id": "0PVwohN2-7z4",
        "outputId": "f2e12889-f0ab-41d5-9981-f4bd3805470f"
      },
      "execution_count": 5,
      "outputs": [
        {
          "output_type": "stream",
          "name": "stdout",
          "text": [
            "Original y using W : \n",
            " tensor([ 8.7740, -3.2261,  0.4063,  7.2494, -0.3587, -0.8469, -1.2226,  1.8885,\n",
            "         0.1394,  0.2454])\n",
            "\n",
            "y computed using BA : \n",
            " tensor([ 8.7740, -3.2261,  0.4063,  7.2494, -0.3587, -0.8469, -1.2226,  1.8885,\n",
            "         0.1394,  0.2454])\n"
          ]
        }
      ]
    },
    {
      "cell_type": "code",
      "source": [
        "print(\"Total parameters of W :\", W.nelement())\n",
        "print(\"Total parameters of B and A :\", B.nelement() + A.nelement())"
      ],
      "metadata": {
        "colab": {
          "base_uri": "https://localhost:8080/"
        },
        "id": "f-ks9Cch_qhT",
        "outputId": "1dca0386-b160-4902-e8e5-a2e664a96455"
      },
      "execution_count": 6,
      "outputs": [
        {
          "output_type": "stream",
          "name": "stdout",
          "text": [
            "Total parameters of W : 100\n",
            "Total parameters of B and A : 40\n"
          ]
        }
      ]
    },
    {
      "cell_type": "code",
      "source": [
        "import torchvision.datasets as datasets\n",
        "import torchvision.transforms as transforms\n",
        "import torch\n",
        "import torch.nn as nn\n",
        "import matplotlib.pyplot as plt\n",
        "from tqdm import tqdm"
      ],
      "metadata": {
        "id": "Pzoj_i5B_-Dd"
      },
      "execution_count": 7,
      "outputs": []
    },
    {
      "cell_type": "code",
      "source": [
        "_ = torch.manual_seed(0)"
      ],
      "metadata": {
        "id": "bedEj32LALAc"
      },
      "execution_count": 8,
      "outputs": []
    },
    {
      "cell_type": "code",
      "source": [
        "transform = transforms.Compose([transforms.ToTensor(), transforms.Normalize((0.1307,), (0.3081,))])\n",
        "\n",
        "# Load the MNIST Dataset\n",
        "\n",
        "mnist_trainset = datasets.MNIST(root = './data', train = True, download = True, transform = transform)\n",
        "# Create a dataloader for the training\n",
        "train_loader = torch.utils.data.DataLoader(mnist_trainset, batch_size = 10, shuffle = True)\n",
        "\n",
        "\n",
        "mnist_testset = datasets.MNIST(root = './data', train = False, download = True, transform = transform)\n",
        "test_loader = torch.utils.data.DataLoader(mnist_testset, batch_size = 10, shuffle = True)\n",
        "\n",
        "device = torch.device('cuda' if torch.cuda.is_available() else 'cpu')\n",
        "device"
      ],
      "metadata": {
        "colab": {
          "base_uri": "https://localhost:8080/"
        },
        "id": "zgZIKgQsAeWA",
        "outputId": "03580125-1287-441b-dffa-d4adb75fff0a"
      },
      "execution_count": 9,
      "outputs": [
        {
          "output_type": "stream",
          "name": "stdout",
          "text": [
            "Downloading http://yann.lecun.com/exdb/mnist/train-images-idx3-ubyte.gz\n",
            "Failed to download (trying next):\n",
            "HTTP Error 403: Forbidden\n",
            "\n",
            "Downloading https://ossci-datasets.s3.amazonaws.com/mnist/train-images-idx3-ubyte.gz\n",
            "Downloading https://ossci-datasets.s3.amazonaws.com/mnist/train-images-idx3-ubyte.gz to ./data/MNIST/raw/train-images-idx3-ubyte.gz\n"
          ]
        },
        {
          "output_type": "stream",
          "name": "stderr",
          "text": [
            "100%|██████████| 9912422/9912422 [00:00<00:00, 35507209.56it/s]\n"
          ]
        },
        {
          "output_type": "stream",
          "name": "stdout",
          "text": [
            "Extracting ./data/MNIST/raw/train-images-idx3-ubyte.gz to ./data/MNIST/raw\n",
            "\n",
            "Downloading http://yann.lecun.com/exdb/mnist/train-labels-idx1-ubyte.gz\n",
            "Failed to download (trying next):\n",
            "HTTP Error 403: Forbidden\n",
            "\n",
            "Downloading https://ossci-datasets.s3.amazonaws.com/mnist/train-labels-idx1-ubyte.gz\n",
            "Downloading https://ossci-datasets.s3.amazonaws.com/mnist/train-labels-idx1-ubyte.gz to ./data/MNIST/raw/train-labels-idx1-ubyte.gz\n"
          ]
        },
        {
          "output_type": "stream",
          "name": "stderr",
          "text": [
            "100%|██████████| 28881/28881 [00:00<00:00, 1214502.50it/s]\n"
          ]
        },
        {
          "output_type": "stream",
          "name": "stdout",
          "text": [
            "Extracting ./data/MNIST/raw/train-labels-idx1-ubyte.gz to ./data/MNIST/raw\n",
            "\n",
            "Downloading http://yann.lecun.com/exdb/mnist/t10k-images-idx3-ubyte.gz\n",
            "Failed to download (trying next):\n",
            "HTTP Error 403: Forbidden\n",
            "\n",
            "Downloading https://ossci-datasets.s3.amazonaws.com/mnist/t10k-images-idx3-ubyte.gz\n",
            "Downloading https://ossci-datasets.s3.amazonaws.com/mnist/t10k-images-idx3-ubyte.gz to ./data/MNIST/raw/t10k-images-idx3-ubyte.gz\n"
          ]
        },
        {
          "output_type": "stream",
          "name": "stderr",
          "text": [
            "100%|██████████| 1648877/1648877 [00:00<00:00, 10463688.79it/s]\n"
          ]
        },
        {
          "output_type": "stream",
          "name": "stdout",
          "text": [
            "Extracting ./data/MNIST/raw/t10k-images-idx3-ubyte.gz to ./data/MNIST/raw\n",
            "\n",
            "Downloading http://yann.lecun.com/exdb/mnist/t10k-labels-idx1-ubyte.gz\n",
            "Failed to download (trying next):\n",
            "HTTP Error 403: Forbidden\n",
            "\n",
            "Downloading https://ossci-datasets.s3.amazonaws.com/mnist/t10k-labels-idx1-ubyte.gz\n",
            "Downloading https://ossci-datasets.s3.amazonaws.com/mnist/t10k-labels-idx1-ubyte.gz to ./data/MNIST/raw/t10k-labels-idx1-ubyte.gz\n"
          ]
        },
        {
          "output_type": "stream",
          "name": "stderr",
          "text": [
            "100%|██████████| 4542/4542 [00:00<00:00, 2589794.56it/s]"
          ]
        },
        {
          "output_type": "stream",
          "name": "stdout",
          "text": [
            "Extracting ./data/MNIST/raw/t10k-labels-idx1-ubyte.gz to ./data/MNIST/raw\n",
            "\n"
          ]
        },
        {
          "output_type": "stream",
          "name": "stderr",
          "text": [
            "\n"
          ]
        },
        {
          "output_type": "execute_result",
          "data": {
            "text/plain": [
              "device(type='cuda')"
            ]
          },
          "metadata": {},
          "execution_count": 9
        }
      ]
    },
    {
      "cell_type": "code",
      "source": [
        "class RichBoyNet(nn.Module):\n",
        "  def __init__(self, hidden_size_1 = 1000, hidden_size_2 = 2000):\n",
        "    super(RichBoyNet, self).__init__()\n",
        "    self.linear1 = nn.Linear(28*28, hidden_size_1)\n",
        "    self.linear2 = nn.Linear(hidden_size_1, hidden_size_2)\n",
        "    self.linear3 = nn.Linear(hidden_size_2, 10)\n",
        "    self.relu = nn.ReLU()\n",
        "\n",
        "  def forward(self, img):\n",
        "    x = img.view(-1, 28*28)\n",
        "    x = self.relu(self.linear1(x))\n",
        "    x = self.relu(self.linear2(x))\n",
        "    x = self.linear3(x)\n",
        "    return x\n",
        "\n",
        "net = RichBoyNet().to(device)"
      ],
      "metadata": {
        "id": "A7LRHonUCJiJ"
      },
      "execution_count": 10,
      "outputs": []
    },
    {
      "cell_type": "code",
      "source": [
        "def train(train_loader, net, epochs=5, total_iterations_limit=None):\n",
        "    cross_el = nn.CrossEntropyLoss()\n",
        "    optimizer = torch.optim.Adam(net.parameters(), lr=0.001)\n",
        "\n",
        "    total_iterations = 0\n",
        "\n",
        "    for epoch in range(epochs):\n",
        "        net.train()\n",
        "\n",
        "        loss_sum = 0\n",
        "        num_iterations = 0\n",
        "\n",
        "        data_iterator = tqdm(train_loader, desc=f'Epoch {epoch+1}')\n",
        "        if total_iterations_limit is not None:\n",
        "            data_iterator.total = total_iterations_limit\n",
        "        for data in data_iterator:\n",
        "            num_iterations += 1\n",
        "            total_iterations += 1\n",
        "            x, y = data\n",
        "            x = x.to(device)\n",
        "            y = y.to(device)\n",
        "            optimizer.zero_grad()\n",
        "            output = net(x.view(-1, 28*28))\n",
        "            loss = cross_el(output, y)\n",
        "            loss_sum += loss.item()\n",
        "            avg_loss = loss_sum / num_iterations\n",
        "            data_iterator.set_postfix(loss=avg_loss)\n",
        "            loss.backward()\n",
        "            optimizer.step()\n",
        "\n",
        "            if total_iterations_limit is not None and total_iterations >= total_iterations_limit:\n",
        "                return\n",
        "\n",
        "train(train_loader, net, epochs=1)"
      ],
      "metadata": {
        "colab": {
          "base_uri": "https://localhost:8080/"
        },
        "id": "GPqozVsSDEWv",
        "outputId": "b9a2d61d-f761-4540-f816-c1a41a640da9"
      },
      "execution_count": 11,
      "outputs": [
        {
          "output_type": "stream",
          "name": "stderr",
          "text": [
            "Epoch 1: 100%|██████████| 6000/6000 [00:45<00:00, 130.59it/s, loss=0.234]\n"
          ]
        }
      ]
    },
    {
      "cell_type": "code",
      "source": [
        "original_weights = {}\n",
        "for name, param in net.named_parameters():\n",
        "  original_weights[name] = param.clone().detach()"
      ],
      "metadata": {
        "id": "ScKipnpDGext"
      },
      "execution_count": 12,
      "outputs": []
    },
    {
      "cell_type": "code",
      "source": [
        "def test():\n",
        "    correct = 0\n",
        "    total = 0\n",
        "\n",
        "    wrong_counts = [0 for i in range(10)]\n",
        "\n",
        "    with torch.no_grad():\n",
        "        for data in tqdm(test_loader, desc='Testing'):\n",
        "            x, y = data\n",
        "            x = x.to(device)\n",
        "            y = y.to(device)\n",
        "            output = net(x.view(-1, 784))\n",
        "            for idx, i in enumerate(output):\n",
        "                if torch.argmax(i) == y[idx]:\n",
        "                    correct +=1\n",
        "                else:\n",
        "                    wrong_counts[y[idx]] +=1\n",
        "                total +=1\n",
        "    print(f'Accuracy: {round(correct/total, 3)}')\n",
        "    for i in range(len(wrong_counts)):\n",
        "        print(f'wrong counts for the digit {i}: {wrong_counts[i]}')\n",
        "\n",
        "test()"
      ],
      "metadata": {
        "colab": {
          "base_uri": "https://localhost:8080/"
        },
        "id": "a4EeHya-GvdT",
        "outputId": "b4334f0d-1037-4248-9eb6-ba112186db8f"
      },
      "execution_count": 13,
      "outputs": [
        {
          "output_type": "stream",
          "name": "stderr",
          "text": [
            "Testing: 100%|██████████| 1000/1000 [00:03<00:00, 295.41it/s]"
          ]
        },
        {
          "output_type": "stream",
          "name": "stdout",
          "text": [
            "Accuracy: 0.961\n",
            "wrong counts for the digit 0: 11\n",
            "wrong counts for the digit 1: 20\n",
            "wrong counts for the digit 2: 54\n",
            "wrong counts for the digit 3: 68\n",
            "wrong counts for the digit 4: 24\n",
            "wrong counts for the digit 5: 18\n",
            "wrong counts for the digit 6: 40\n",
            "wrong counts for the digit 7: 55\n",
            "wrong counts for the digit 8: 9\n",
            "wrong counts for the digit 9: 87\n"
          ]
        },
        {
          "output_type": "stream",
          "name": "stderr",
          "text": [
            "\n"
          ]
        }
      ]
    },
    {
      "cell_type": "code",
      "source": [
        "# Print the size of the weights matrices of the network\n",
        "# Save the count of the total number of parameters\n",
        "total_parameters_original = 0\n",
        "for index, layer in enumerate([net.linear1, net.linear2, net.linear3]):\n",
        "    total_parameters_original += layer.weight.nelement() + layer.bias.nelement()\n",
        "    print(f'Layer {index+1}: W: {layer.weight.shape} + B: {layer.bias.shape}')\n",
        "print(f'Total number of parameters: {total_parameters_original:,}')"
      ],
      "metadata": {
        "colab": {
          "base_uri": "https://localhost:8080/"
        },
        "id": "i4YqFjAe07fA",
        "outputId": "66244c09-3789-4308-9e50-adeb392f1a46"
      },
      "execution_count": 17,
      "outputs": [
        {
          "output_type": "stream",
          "name": "stdout",
          "text": [
            "Layer 1: W: torch.Size([1000, 784]) + B: torch.Size([1000])\n",
            "Layer 2: W: torch.Size([2000, 1000]) + B: torch.Size([2000])\n",
            "Layer 3: W: torch.Size([10, 2000]) + B: torch.Size([10])\n",
            "Total number of parameters: 2,807,010\n"
          ]
        }
      ]
    },
    {
      "cell_type": "code",
      "source": [
        "class LoRAParameterization(nn.Module):\n",
        "  def __init__(self, features_in, features_out, rank = 1, alpha = 1, device = 'cpu'):\n",
        "    super().__init__()\n",
        "    # We use a random gaussian initalisation for A and zero for B so dW = BA is zero at the beginning of training\n",
        "    self.lora_A = nn.Parameter(torch.zeros((rank, features_out)).to(device))\n",
        "    self.lora_B = nn.Parameter(torch.zeros((features_in, rank)).to(device))\n",
        "    nn.init.normal_(self.lora_A, mean = 0, std = 1)\n",
        "\n",
        "    # We then scale dWx by alpha/rank, where alpha is constant in r\n",
        "\n",
        "    # When optimising with Adam, tuning alpha is roughly the same as tuning the learning rate if we scale the initialisation appropriately.\n",
        "    # As a result, we simply set alpha to the first r we try and do not tune it\n",
        "    # This scaling helps to reduce the need to retune hyperparameters when we vary r\n",
        "    self.scale = alpha / rank\n",
        "    self.enabled = True\n",
        "\n",
        "  def forward(self, original_weights):\n",
        "    if self.enabled:\n",
        "      # Return W + (B*A)*Scale\n",
        "      return original_weights + torch.matmul(self.lora_B, self.lora_A).view(original_weights.shape) * self.scale\n",
        "    else:\n",
        "      return original_weights"
      ],
      "metadata": {
        "id": "_61sQnKzIAgq"
      },
      "execution_count": 14,
      "outputs": []
    },
    {
      "cell_type": "code",
      "source": [
        "import torch.nn.utils.parametrize as parametrize\n",
        "\n",
        "def linear_layer_parametrization(layer, device, rank = 1, lora_alpha = 1):\n",
        "  # Only add the parametrization to the weight matrix ignore the bias\n",
        "\n",
        "  features_in, features_out = layer.weight.shape\n",
        "  return LoRAParameterization(\n",
        "      features_in, features_out, rank = rank, alpha = lora_alpha, device = device\n",
        "  )\n",
        "\n",
        "parametrize.register_parametrization(\n",
        "    net.linear1, \"weight\", linear_layer_parametrization(net.linear1, device)\n",
        ")\n",
        "parametrize.register_parametrization(\n",
        "    net.linear2, \"weight\", linear_layer_parametrization(net.linear2, device)\n",
        ")\n",
        "parametrize.register_parametrization(\n",
        "    net.linear3, \"weight\", linear_layer_parametrization(net.linear3, device)\n",
        ")\n",
        "\n",
        "def enable_disable_lora(enabled = True):\n",
        "  for layer in [net.linear1, net.linear2, net.linear3]:\n",
        "    layer.parametrization[\"weight\"][0].enabled = enabled"
      ],
      "metadata": {
        "id": "DEdxCWFpIILN"
      },
      "execution_count": 15,
      "outputs": []
    },
    {
      "cell_type": "code",
      "source": [
        "total_parameters_lora = 0\n",
        "total_parameters_non_lora = 0\n",
        "for index, layer in enumerate([net.linear1, net.linear2, net.linear3]):\n",
        "    total_parameters_lora += layer.parametrizations[\"weight\"][0].lora_A.nelement() + layer.parametrizations[\"weight\"][0].lora_B.nelement()\n",
        "    total_parameters_non_lora += layer.weight.nelement() + layer.bias.nelement()\n",
        "    print(\n",
        "        f'Layer {index+1}: W: {layer.weight.shape} + B: {layer.bias.shape} + Lora_A: {layer.parametrizations[\"weight\"][0].lora_A.shape} + Lora_B: {layer.parametrizations[\"weight\"][0].lora_B.shape}'\n",
        "    )\n",
        "# The non-LoRA parameters count must match the original network\n",
        "assert total_parameters_non_lora == total_parameters_original\n",
        "print(f'Total number of parameters (original): {total_parameters_non_lora:,}')\n",
        "print(f'Total number of parameters (original + LoRA): {total_parameters_lora + total_parameters_non_lora:,}')\n",
        "print(f'Parameters introduced by LoRA: {total_parameters_lora:,}')\n",
        "parameters_incremment = (total_parameters_lora / total_parameters_non_lora) * 100\n",
        "print(f'Parameters incremment: {parameters_incremment:.3f}%')"
      ],
      "metadata": {
        "colab": {
          "base_uri": "https://localhost:8080/"
        },
        "id": "GQUcYMXO0ZAH",
        "outputId": "f919ec41-5b68-4e97-faac-64d9c170020f"
      },
      "execution_count": 18,
      "outputs": [
        {
          "output_type": "stream",
          "name": "stdout",
          "text": [
            "Layer 1: W: torch.Size([1000, 784]) + B: torch.Size([1000]) + Lora_A: torch.Size([1, 784]) + Lora_B: torch.Size([1000, 1])\n",
            "Layer 2: W: torch.Size([2000, 1000]) + B: torch.Size([2000]) + Lora_A: torch.Size([1, 1000]) + Lora_B: torch.Size([2000, 1])\n",
            "Layer 3: W: torch.Size([10, 2000]) + B: torch.Size([10]) + Lora_A: torch.Size([1, 2000]) + Lora_B: torch.Size([10, 1])\n",
            "Total number of parameters (original): 2,807,010\n",
            "Total number of parameters (original + LoRA): 2,813,804\n",
            "Parameters introduced by LoRA: 6,794\n",
            "Parameters incremment: 0.242%\n"
          ]
        }
      ]
    },
    {
      "cell_type": "code",
      "source": [
        "# Freeze the non-Lora parameters\n",
        "for name, param in net.named_parameters():\n",
        "    if 'lora' not in name:\n",
        "        print(f'Freezing non-LoRA parameter {name}')\n",
        "        param.requires_grad = False\n",
        "\n",
        "# Load the MNIST dataset again, by keeping only the digit 9\n",
        "mnist_trainset = datasets.MNIST(root='./data', train=True, download=True, transform=transform)\n",
        "exclude_indices = mnist_trainset.targets == 9\n",
        "mnist_trainset.data = mnist_trainset.data[exclude_indices]\n",
        "mnist_trainset.targets = mnist_trainset.targets[exclude_indices]\n",
        "# Create a dataloader for the training\n",
        "train_loader = torch.utils.data.DataLoader(mnist_trainset, batch_size=10, shuffle=True)\n",
        "\n",
        "# Train the network with LoRA only on the digit 9 and only for 100 batches (hoping that it would improve the performance on the digit 9)\n",
        "train(train_loader, net, epochs=1, total_iterations_limit=100)"
      ],
      "metadata": {
        "colab": {
          "base_uri": "https://localhost:8080/"
        },
        "id": "GG84Xy7X1EnZ",
        "outputId": "62eeeccf-7944-4b17-bf29-ecb6676237d0"
      },
      "execution_count": 19,
      "outputs": [
        {
          "output_type": "stream",
          "name": "stdout",
          "text": [
            "Freezing non-LoRA parameter linear1.bias\n",
            "Freezing non-LoRA parameter linear1.parametrizations.weight.original\n",
            "Freezing non-LoRA parameter linear2.bias\n",
            "Freezing non-LoRA parameter linear2.parametrizations.weight.original\n",
            "Freezing non-LoRA parameter linear3.bias\n",
            "Freezing non-LoRA parameter linear3.parametrizations.weight.original\n"
          ]
        },
        {
          "output_type": "stream",
          "name": "stderr",
          "text": [
            "Epoch 1:  99%|█████████▉| 99/100 [00:00<00:00, 106.67it/s, loss=0.0961]\n"
          ]
        }
      ]
    }
  ]
}