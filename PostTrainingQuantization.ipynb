{
  "nbformat": 4,
  "nbformat_minor": 0,
  "metadata": {
    "colab": {
      "provenance": [],
      "gpuType": "T4",
      "authorship_tag": "ABX9TyOunehXrnKCmul9rGe6Awi0",
      "include_colab_link": true
    },
    "kernelspec": {
      "name": "python3",
      "display_name": "Python 3"
    },
    "language_info": {
      "name": "python"
    },
    "accelerator": "GPU"
  },
  "cells": [
    {
      "cell_type": "markdown",
      "metadata": {
        "id": "view-in-github",
        "colab_type": "text"
      },
      "source": [
        "<a href=\"https://colab.research.google.com/github/kalyaannnn/TransforMER/blob/main/PostTrainingQuantization.ipynb\" target=\"_parent\"><img src=\"https://colab.research.google.com/assets/colab-badge.svg\" alt=\"Open In Colab\"/></a>"
      ]
    },
    {
      "cell_type": "code",
      "execution_count": 1,
      "metadata": {
        "id": "QAkeG-jyuvoD"
      },
      "outputs": [],
      "source": [
        "import torch\n",
        "import torch.nn as nn\n",
        "import torchvision.transforms as transforms\n",
        "import torchvision.datasets as datasets\n",
        "import matplotlib.pyplot as plt\n",
        "from tqdm import tqdm\n",
        "from pathlib import Path\n",
        "import os"
      ]
    },
    {
      "cell_type": "code",
      "source": [
        "_ = torch.manual_seed(0)"
      ],
      "metadata": {
        "id": "oyC_FRn3xRmR"
      },
      "execution_count": 2,
      "outputs": []
    },
    {
      "cell_type": "code",
      "source": [
        "transform = transforms.Compose([transforms.ToTensor(), transforms.Normalize((0.1307, ), (0.3081, ))])\n",
        "\n",
        "mnist_trainset = datasets.MNIST(root = './data', train = True, download = True, transform = transform)\n",
        "train_loader = torch.utils.data.DataLoader(mnist_trainset, batch_size = 10, shuffle = True)\n",
        "\n",
        "mnist_testset = datasets.MNIST(root = './data', train = False, download = True)\n",
        "test_dataloader = torch.utils.data.DataLoader(mnist_trainset, batch_size = 10, shuffle = True)\n",
        "\n",
        "device = torch.device('cuda' if torch.cuda.is_available() else 'cpu')\n",
        "device"
      ],
      "metadata": {
        "colab": {
          "base_uri": "https://localhost:8080/"
        },
        "id": "LSNC5JnBxUq0",
        "outputId": "954716a9-3fcb-498d-9e36-d0278c57034f"
      },
      "execution_count": 3,
      "outputs": [
        {
          "output_type": "stream",
          "name": "stdout",
          "text": [
            "Downloading http://yann.lecun.com/exdb/mnist/train-images-idx3-ubyte.gz\n",
            "Failed to download (trying next):\n",
            "HTTP Error 403: Forbidden\n",
            "\n",
            "Downloading https://ossci-datasets.s3.amazonaws.com/mnist/train-images-idx3-ubyte.gz\n",
            "Downloading https://ossci-datasets.s3.amazonaws.com/mnist/train-images-idx3-ubyte.gz to ./data/MNIST/raw/train-images-idx3-ubyte.gz\n"
          ]
        },
        {
          "output_type": "stream",
          "name": "stderr",
          "text": [
            "100%|██████████| 9912422/9912422 [00:00<00:00, 15303985.98it/s]\n"
          ]
        },
        {
          "output_type": "stream",
          "name": "stdout",
          "text": [
            "Extracting ./data/MNIST/raw/train-images-idx3-ubyte.gz to ./data/MNIST/raw\n",
            "\n",
            "Downloading http://yann.lecun.com/exdb/mnist/train-labels-idx1-ubyte.gz\n",
            "Failed to download (trying next):\n",
            "HTTP Error 403: Forbidden\n",
            "\n",
            "Downloading https://ossci-datasets.s3.amazonaws.com/mnist/train-labels-idx1-ubyte.gz\n",
            "Downloading https://ossci-datasets.s3.amazonaws.com/mnist/train-labels-idx1-ubyte.gz to ./data/MNIST/raw/train-labels-idx1-ubyte.gz\n"
          ]
        },
        {
          "output_type": "stream",
          "name": "stderr",
          "text": [
            "100%|██████████| 28881/28881 [00:00<00:00, 456610.97it/s]\n"
          ]
        },
        {
          "output_type": "stream",
          "name": "stdout",
          "text": [
            "Extracting ./data/MNIST/raw/train-labels-idx1-ubyte.gz to ./data/MNIST/raw\n",
            "\n",
            "Downloading http://yann.lecun.com/exdb/mnist/t10k-images-idx3-ubyte.gz\n",
            "Failed to download (trying next):\n",
            "HTTP Error 403: Forbidden\n",
            "\n",
            "Downloading https://ossci-datasets.s3.amazonaws.com/mnist/t10k-images-idx3-ubyte.gz\n",
            "Downloading https://ossci-datasets.s3.amazonaws.com/mnist/t10k-images-idx3-ubyte.gz to ./data/MNIST/raw/t10k-images-idx3-ubyte.gz\n"
          ]
        },
        {
          "output_type": "stream",
          "name": "stderr",
          "text": [
            "100%|██████████| 1648877/1648877 [00:00<00:00, 4188025.30it/s]\n"
          ]
        },
        {
          "output_type": "stream",
          "name": "stdout",
          "text": [
            "Extracting ./data/MNIST/raw/t10k-images-idx3-ubyte.gz to ./data/MNIST/raw\n",
            "\n",
            "Downloading http://yann.lecun.com/exdb/mnist/t10k-labels-idx1-ubyte.gz\n",
            "Failed to download (trying next):\n",
            "HTTP Error 403: Forbidden\n",
            "\n",
            "Downloading https://ossci-datasets.s3.amazonaws.com/mnist/t10k-labels-idx1-ubyte.gz\n",
            "Downloading https://ossci-datasets.s3.amazonaws.com/mnist/t10k-labels-idx1-ubyte.gz to ./data/MNIST/raw/t10k-labels-idx1-ubyte.gz\n"
          ]
        },
        {
          "output_type": "stream",
          "name": "stderr",
          "text": [
            "100%|██████████| 4542/4542 [00:00<00:00, 1143420.49it/s]"
          ]
        },
        {
          "output_type": "stream",
          "name": "stdout",
          "text": [
            "Extracting ./data/MNIST/raw/t10k-labels-idx1-ubyte.gz to ./data/MNIST/raw\n",
            "\n"
          ]
        },
        {
          "output_type": "stream",
          "name": "stderr",
          "text": [
            "\n"
          ]
        },
        {
          "output_type": "execute_result",
          "data": {
            "text/plain": [
              "device(type='cuda')"
            ]
          },
          "metadata": {},
          "execution_count": 3
        }
      ]
    },
    {
      "cell_type": "code",
      "source": [
        "class SimpleNet(nn.Module):\n",
        "  def __init__(self, hidden_size_1 = 100, hidden_size_2 = 100):\n",
        "    super(SimpleNet, self).__init__()\n",
        "    self.linear1 = nn.Linear(28 * 28, hidden_size_1)\n",
        "    self.linear2 = nn.Linear(hidden_size_1, hidden_size_2)\n",
        "    self.linear3 = nn.Linear(hidden_size_2, 10)\n",
        "    self.relu = nn.ReLU()\n",
        "\n",
        "  def forward(self, img):\n",
        "    x = img.view(-1, 28*28)\n",
        "    x = self.relu(self.linear1(x))\n",
        "    x = self.relu(self.linear2(x))\n",
        "    x = self.linear3(x)\n",
        "    return x"
      ],
      "metadata": {
        "id": "EbVjnqHJ1HFe"
      },
      "execution_count": 14,
      "outputs": []
    },
    {
      "cell_type": "code",
      "source": [
        "net = SimpleNet().to(device)"
      ],
      "metadata": {
        "id": "KwzeSg252HQ-"
      },
      "execution_count": 15,
      "outputs": []
    },
    {
      "cell_type": "code",
      "source": [
        "def train(train_loader, net, epochs = 5, total_iterations_limit = None):\n",
        "  cross_el = nn.CrossEntropyLoss()\n",
        "  optimizer = torch.optim.Adam(net.parameters(), lr = 0.001)\n",
        "\n",
        "  total_iterations = 0\n",
        "\n",
        "  for epoch in range(epochs):\n",
        "    net.train()\n",
        "\n",
        "    loss_sum = 0\n",
        "    num_iterations = 0\n",
        "\n",
        "\n",
        "    data_iterator = tqdm(train_loader, desc = f'Epoch {epoch + 1}')\n",
        "    if total_iterations_limit is not None:\n",
        "      data_iterator.total = total_iterations_limit\n",
        "    for data in data_iterator:\n",
        "      num_iterations += 1\n",
        "      total_iterations += 1\n",
        "      x, y = data\n",
        "      x = x.to(device)\n",
        "      y = y.to(device)\n",
        "      optimizer.zero_grad()\n",
        "      output = net(x.view(-1, 28*28))\n",
        "      loss = cross_el(output, y)\n",
        "      loss_sum += loss.item()\n",
        "      avg_loss = loss_sum / num_iterations\n",
        "      data_iterator.set_postfix(loss = avg_loss)\n",
        "      loss.backward()\n",
        "      optimizer.step()\n",
        "\n",
        "      if total_iterations_limit is not None and total_iterations >= total_iterations_limit:\n",
        "        return\n",
        "\n",
        "def print_size_of_model(model):\n",
        "  torch.save(model.state_dict(), \"temp_delme.p\")\n",
        "  print('Size (KB) :', os.path.getsize(\"temp_delme.p\")/1e3)\n",
        "  os.remove('temp_delme.p')"
      ],
      "metadata": {
        "id": "S_AnN6ND2QO0"
      },
      "execution_count": 7,
      "outputs": []
    },
    {
      "cell_type": "code",
      "source": [
        "MODEL_FILENAME = 'simplenet_ptq.pt'"
      ],
      "metadata": {
        "id": "mUiRpDpchUuR"
      },
      "execution_count": 8,
      "outputs": []
    },
    {
      "cell_type": "code",
      "source": [
        "if Path(MODEL_FILENAME).exists():\n",
        "  net.load_state_dict(torch.load(MODEL_FILENAME))\n",
        "  print('Loaded Model from the disk')\n",
        "else:\n",
        "  train(train_loader, net, epochs = 1)\n",
        "  torch.save(net.state_dict(), MODEL_FILENAME)"
      ],
      "metadata": {
        "colab": {
          "base_uri": "https://localhost:8080/"
        },
        "id": "HNyLWDNShZjT",
        "outputId": "a6e8e60f-605d-4353-f826-bad48793ceb4"
      },
      "execution_count": 16,
      "outputs": [
        {
          "output_type": "stream",
          "name": "stderr",
          "text": [
            "Epoch 1: 100%|██████████| 6000/6000 [00:41<00:00, 145.76it/s, loss=0.215]\n"
          ]
        }
      ]
    },
    {
      "cell_type": "code",
      "source": [
        "def test(model : nn.Module, total_iterations : int = None):\n",
        "  correct = 0\n",
        "  total = 0\n",
        "\n",
        "  iterations = 0\n",
        "\n",
        "  model.eval()\n",
        "  with torch.no_grad():\n",
        "    for data in tqdm(test_dataloader, desc = 'Testing'):\n",
        "      x, y = data\n",
        "      x = x.to(device)\n",
        "      y = y.to(device)\n",
        "      output = model(x.view(-1, 784))\n",
        "      for idx, i in enumerate(output):\n",
        "        if(torch.argmax(i) == y[idx]):\n",
        "          correct += 1\n",
        "        total += 1\n",
        "      iterations += 1\n",
        "      if total_iterations is not None and iterations >= total_iterations:\n",
        "        break\n",
        "\n",
        "  print(f\"Accuracy : {round(correct/total, 3)}\")"
      ],
      "metadata": {
        "id": "RJn-0M-1j7T6"
      },
      "execution_count": 17,
      "outputs": []
    },
    {
      "cell_type": "markdown",
      "source": [
        "Weights and size of the model before quantization"
      ],
      "metadata": {
        "id": "XUsuHDVDlHbM"
      }
    },
    {
      "cell_type": "code",
      "source": [
        "print(\"Weights before quantization\")\n",
        "print(net.linear1.weight)\n",
        "print(net.linear1.weight.dtype)"
      ],
      "metadata": {
        "colab": {
          "base_uri": "https://localhost:8080/"
        },
        "id": "LZkWUpkmlFfQ",
        "outputId": "b1f502d7-dc39-4e9d-838d-3152eb4290c8"
      },
      "execution_count": 19,
      "outputs": [
        {
          "output_type": "stream",
          "name": "stdout",
          "text": [
            "Weights before quantization\n",
            "Parameter containing:\n",
            "tensor([[ 0.0111, -0.0337,  0.0008,  ..., -0.0153,  0.0071,  0.0363],\n",
            "        [ 0.0133,  0.0466,  0.0403,  ...,  0.0583,  0.0349,  0.0255],\n",
            "        [ 0.0225, -0.0102,  0.0374,  ...,  0.0290, -0.0150, -0.0116],\n",
            "        ...,\n",
            "        [ 0.0106,  0.0444, -0.0069,  ...,  0.0517,  0.0119,  0.0226],\n",
            "        [-0.0179, -0.0056,  0.0184,  ..., -0.0132, -0.0009, -0.0169],\n",
            "        [ 0.0028,  0.0514,  0.0516,  ...,  0.0459,  0.0241, -0.0012]],\n",
            "       device='cuda:0', requires_grad=True)\n",
            "torch.float32\n"
          ]
        }
      ]
    },
    {
      "cell_type": "code",
      "source": [
        "print(\"Size of the model before quantization\")\n",
        "print_size_of_model(net)"
      ],
      "metadata": {
        "colab": {
          "base_uri": "https://localhost:8080/"
        },
        "id": "iPiGbNVelodg",
        "outputId": "0a903b8c-ec4c-487f-b90c-277b17d7f4d5"
      },
      "execution_count": 20,
      "outputs": [
        {
          "output_type": "stream",
          "name": "stdout",
          "text": [
            "Size of the model before quantization\n",
            "Size (KB) : 361.062\n"
          ]
        }
      ]
    },
    {
      "cell_type": "code",
      "source": [
        "print(f\"Accuracy of the mode before quantization\")\n",
        "test(net)"
      ],
      "metadata": {
        "colab": {
          "base_uri": "https://localhost:8080/"
        },
        "id": "cmaanA9XmhwG",
        "outputId": "716ad6a9-982f-4062-f496-a430edcb9809"
      },
      "execution_count": 21,
      "outputs": [
        {
          "output_type": "stream",
          "name": "stdout",
          "text": [
            "Accuracy of the mode before quantization\n"
          ]
        },
        {
          "output_type": "stream",
          "name": "stderr",
          "text": [
            "Testing: 100%|██████████| 6000/6000 [00:19<00:00, 313.01it/s]"
          ]
        },
        {
          "output_type": "stream",
          "name": "stdout",
          "text": [
            "Accuracy : 0.96\n"
          ]
        },
        {
          "output_type": "stream",
          "name": "stderr",
          "text": [
            "\n"
          ]
        }
      ]
    },
    {
      "cell_type": "markdown",
      "source": [
        "Insert Mix Max Observers in the model"
      ],
      "metadata": {
        "id": "-_7DHRQfnS47"
      }
    },
    {
      "cell_type": "code",
      "source": [
        "class QuantizedNet(nn.Module):\n",
        "  def __init__(self, hidden_size_1 = 100, hidden_size_2 = 100):\n",
        "    super(QuantizedNet, self).__init__()\n",
        "    self.quant = torch.quantization.QuantStub()\n",
        "    self.linear1 = nn.Linear(28*28, hidden_size_1)\n",
        "    self.linear2 = nn.Linear(hidden_size_1, hidden_size_2)\n",
        "    self.linear3 = nn.Linear(hidden_size_2, 10)\n",
        "    self.relu = nn.ReLU()\n",
        "    self.dequant = torch.quantization.DeQuantStub()\n",
        "\n",
        "  def forward(self, img):\n",
        "    x = img.view(-1, 28*28)\n",
        "    x = self.quant(x)\n",
        "    x = self.relu(self.linear1(x))\n",
        "    x = self.relu(self.linear2(x))\n",
        "    x = self.linear3(x)\n",
        "    x = self.dequant(x)\n",
        "    return x"
      ],
      "metadata": {
        "id": "ej7et5lKnRU0"
      },
      "execution_count": 34,
      "outputs": []
    },
    {
      "cell_type": "code",
      "source": [
        "net_quantized = QuantizedNet().to(device)\n",
        "\n",
        "net_quantized.load_state_dict(net.state_dict())\n",
        "net_quantized.eval()\n",
        "\n",
        "net_quantized.qconfig = torch.ao.quantization.default_qconfig\n",
        "net_quantized = torch.ao.quantization.prepare(net_quantized) #Insert Observer\n",
        "net_quantized"
      ],
      "metadata": {
        "colab": {
          "base_uri": "https://localhost:8080/"
        },
        "id": "tyEdO_DVomra",
        "outputId": "184614a8-e2bb-471e-f0f4-41eca548ba3c"
      },
      "execution_count": 35,
      "outputs": [
        {
          "output_type": "execute_result",
          "data": {
            "text/plain": [
              "QuantizedNet(\n",
              "  (quant): QuantStub(\n",
              "    (activation_post_process): MinMaxObserver(min_val=inf, max_val=-inf)\n",
              "  )\n",
              "  (linear1): Linear(\n",
              "    in_features=784, out_features=100, bias=True\n",
              "    (activation_post_process): MinMaxObserver(min_val=inf, max_val=-inf)\n",
              "  )\n",
              "  (linear2): Linear(\n",
              "    in_features=100, out_features=100, bias=True\n",
              "    (activation_post_process): MinMaxObserver(min_val=inf, max_val=-inf)\n",
              "  )\n",
              "  (linear3): Linear(\n",
              "    in_features=100, out_features=10, bias=True\n",
              "    (activation_post_process): MinMaxObserver(min_val=inf, max_val=-inf)\n",
              "  )\n",
              "  (relu): ReLU()\n",
              "  (dequant): DeQuantStub()\n",
              ")"
            ]
          },
          "metadata": {},
          "execution_count": 35
        }
      ]
    },
    {
      "cell_type": "code",
      "source": [
        "test(net_quantized)"
      ],
      "metadata": {
        "colab": {
          "base_uri": "https://localhost:8080/"
        },
        "id": "YWDh2Jf4pEEh",
        "outputId": "33d9bc93-233e-439e-e0ef-3f7249284a37"
      },
      "execution_count": 36,
      "outputs": [
        {
          "output_type": "stream",
          "name": "stderr",
          "text": [
            "Testing: 100%|██████████| 6000/6000 [00:22<00:00, 262.14it/s]"
          ]
        },
        {
          "output_type": "stream",
          "name": "stdout",
          "text": [
            "Accuracy : 0.96\n"
          ]
        },
        {
          "output_type": "stream",
          "name": "stderr",
          "text": [
            "\n"
          ]
        }
      ]
    },
    {
      "cell_type": "code",
      "source": [
        "net_quantized = torch.ao.quantization.convert(net_quantized)"
      ],
      "metadata": {
        "id": "TOk7lXZ3p6eU"
      },
      "execution_count": 37,
      "outputs": []
    },
    {
      "cell_type": "code",
      "source": [
        "print(f'Statistics of the various layers')\n",
        "net_quantized"
      ],
      "metadata": {
        "colab": {
          "base_uri": "https://localhost:8080/"
        },
        "id": "APvpGDO3qKi3",
        "outputId": "4dd249d8-e831-4a0b-ba52-a019ff1ae9fd"
      },
      "execution_count": 38,
      "outputs": [
        {
          "output_type": "stream",
          "name": "stdout",
          "text": [
            "Statistics of the various layers\n"
          ]
        },
        {
          "output_type": "execute_result",
          "data": {
            "text/plain": [
              "QuantizedNet(\n",
              "  (quant): Quantize(scale=tensor([0.0256], device='cuda:0'), zero_point=tensor([17], device='cuda:0'), dtype=torch.quint8)\n",
              "  (linear1): QuantizedLinear(in_features=784, out_features=100, scale=0.6587608456611633, zero_point=72, qscheme=torch.per_tensor_affine)\n",
              "  (linear2): QuantizedLinear(in_features=100, out_features=100, scale=0.39274415373802185, zero_point=70, qscheme=torch.per_tensor_affine)\n",
              "  (linear3): QuantizedLinear(in_features=100, out_features=10, scale=0.42928650975227356, zero_point=77, qscheme=torch.per_tensor_affine)\n",
              "  (relu): ReLU()\n",
              "  (dequant): DeQuantize()\n",
              ")"
            ]
          },
          "metadata": {},
          "execution_count": 38
        }
      ]
    },
    {
      "cell_type": "code",
      "source": [
        "print(f'Weights after quantization')\n",
        "print(torch.int_repr(net_quantized.linear1.weight()))"
      ],
      "metadata": {
        "colab": {
          "base_uri": "https://localhost:8080/"
        },
        "id": "KYzYqQ1zrBiT",
        "outputId": "6941d72d-f01a-4cd8-83e9-160e77a5ba24"
      },
      "execution_count": 39,
      "outputs": [
        {
          "output_type": "stream",
          "name": "stdout",
          "text": [
            "Weights after quantization\n",
            "tensor([[ 3, -8,  0,  ..., -4,  2,  9],\n",
            "        [ 3, 11, 10,  ..., 14,  9,  6],\n",
            "        [ 6, -2,  9,  ...,  7, -4, -3],\n",
            "        ...,\n",
            "        [ 3, 11, -2,  ..., 13,  3,  6],\n",
            "        [-4, -1,  4,  ..., -3,  0, -4],\n",
            "        [ 1, 13, 13,  ..., 11,  6,  0]], device='cuda:0', dtype=torch.int8)\n"
          ]
        }
      ]
    },
    {
      "cell_type": "code",
      "source": [
        "print('Original weights: ')\n",
        "print(net.linear1.weight)\n",
        "print('')\n",
        "print(f'Dequantized weights: ')\n",
        "print(torch.dequantize(net_quantized.linear1.weight()))\n",
        "print('')"
      ],
      "metadata": {
        "colab": {
          "base_uri": "https://localhost:8080/"
        },
        "id": "yJdXEuNirS8x",
        "outputId": "12a9038e-54f1-4c59-a303-0168a7452b44"
      },
      "execution_count": 40,
      "outputs": [
        {
          "output_type": "stream",
          "name": "stdout",
          "text": [
            "Original weights: \n",
            "Parameter containing:\n",
            "tensor([[ 0.0111, -0.0337,  0.0008,  ..., -0.0153,  0.0071,  0.0363],\n",
            "        [ 0.0133,  0.0466,  0.0403,  ...,  0.0583,  0.0349,  0.0255],\n",
            "        [ 0.0225, -0.0102,  0.0374,  ...,  0.0290, -0.0150, -0.0116],\n",
            "        ...,\n",
            "        [ 0.0106,  0.0444, -0.0069,  ...,  0.0517,  0.0119,  0.0226],\n",
            "        [-0.0179, -0.0056,  0.0184,  ..., -0.0132, -0.0009, -0.0169],\n",
            "        [ 0.0028,  0.0514,  0.0516,  ...,  0.0459,  0.0241, -0.0012]],\n",
            "       device='cuda:0', requires_grad=True)\n",
            "\n",
            "Dequantized weights: \n",
            "tensor([[ 0.0123, -0.0328,  0.0000,  ..., -0.0164,  0.0082,  0.0369],\n",
            "        [ 0.0123,  0.0450,  0.0409,  ...,  0.0573,  0.0369,  0.0246],\n",
            "        [ 0.0246, -0.0082,  0.0369,  ...,  0.0287, -0.0164, -0.0123],\n",
            "        ...,\n",
            "        [ 0.0123,  0.0450, -0.0082,  ...,  0.0532,  0.0123,  0.0246],\n",
            "        [-0.0164, -0.0041,  0.0164,  ..., -0.0123,  0.0000, -0.0164],\n",
            "        [ 0.0041,  0.0532,  0.0532,  ...,  0.0450,  0.0246,  0.0000]],\n",
            "       device='cuda:0')\n",
            "\n"
          ]
        }
      ]
    },
    {
      "cell_type": "code",
      "source": [
        "print('Size of the model after quantization')\n",
        "print_size_of_model(net_quantized)"
      ],
      "metadata": {
        "colab": {
          "base_uri": "https://localhost:8080/"
        },
        "id": "4qoUb3h5riBs",
        "outputId": "640267b7-e596-4d10-87b1-f5730df03951"
      },
      "execution_count": 41,
      "outputs": [
        {
          "output_type": "stream",
          "name": "stdout",
          "text": [
            "Size of the model after quantization\n",
            "Size (KB) : 95.458\n"
          ]
        }
      ]
    }
  ]
}